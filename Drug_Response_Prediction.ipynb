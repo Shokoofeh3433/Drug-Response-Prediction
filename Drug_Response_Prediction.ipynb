{
  "nbformat": 4,
  "nbformat_minor": 0,
  "metadata": {
    "colab": {
      "provenance": []
    },
    "kernelspec": {
      "name": "python3",
      "display_name": "Python 3"
    },
    "language_info": {
      "name": "python"
    }
  },
  "cells": [
    {
      "cell_type": "markdown",
      "source": [
        "Drug Response Prediction (IC50)"
      ],
      "metadata": {
        "id": "6ZJOdaZGheOu"
      }
    },
    {
      "cell_type": "code",
      "source": [
        "#Loading Libraries\n",
        "from sklearn.model_selection import train_test_split\n",
        "from sklearn.model_selection import RepeatedKFold\n",
        "from sklearn.feature_selection import VarianceThreshold\n",
        "from sklearn.metrics import mean_squared_error\n",
        "from sklearn.metrics import r2_score\n",
        "from sklearn.model_selection import LeaveOneOut\n",
        "from sklearn.model_selection import cross_val_score\n",
        "import pandas as pd\n",
        "import numpy as np\n",
        "import os\n",
        "from sklearn.utils import shuffle"
      ],
      "metadata": {
        "id": "X_OwljbphlV8"
      },
      "execution_count": null,
      "outputs": []
    },
    {
      "cell_type": "code",
      "source": [
        "#Data loading and pre-processing\n",
        "dataset = pd.read_csv(\"Input.csv\")\n",
        "dataset.shape\n",
        "X = dataset.drop(columns=[\"pIC50\",])\n",
        "y = dataset[\"pIC50\"]\n",
        "print(X.shape)\n",
        "print(y.shape)"
      ],
      "metadata": {
        "id": "4MO11ry8hs0j"
      },
      "execution_count": null,
      "outputs": []
    },
    {
      "cell_type": "code",
      "source": [
        "#Viewing Features\n",
        "%matplotlib inline\n",
        "import matplotlib.pyplot as plt\n",
        "X.hist(bins=50, figsize=(45,15))\n",
        "plt.show()"
      ],
      "metadata": {
        "id": "lUycHf_1iwvX"
      },
      "execution_count": null,
      "outputs": []
    },
    {
      "cell_type": "code",
      "source": [
        "#Spliting Data\n",
        "X_train, X_test, y_train, y_test = train_test_split(X, y, test_size=0.2, random_state=42)"
      ],
      "metadata": {
        "id": "jlge8TZtiHHJ"
      },
      "execution_count": null,
      "outputs": []
    },
    {
      "cell_type": "code",
      "source": [
        "#Feature Selection Using Mutual Information\n",
        "from sklearn.feature_selection import mutual_info_regression\n",
        "# determine the mutual information\n",
        "mutual_info = mutual_info_regression(X_train, y_train)\n",
        "mutual_info\n",
        "mutual_info = pd.Series(mutual_info)\n",
        "mutual_info.index = X_train.columns\n",
        "mutual_info.sort_values(ascending=False)\n",
        "from sklearn.feature_selection import SelectPercentile\n",
        "## Selecting the top 20 percentile\n",
        "selected_top_columns = SelectPercentile(mutual_info_regression, percentile=40)\n",
        "selected_top_columns.fit(X_train, y_train)\n",
        "selected = X.columns[selected_top_columns.get_support()]\n",
        "X_train_new = X_train[[selected]]\n",
        "X_test_new = X_test[[selected]]"
      ],
      "metadata": {
        "id": "4BVVHU5oiMA7"
      },
      "execution_count": null,
      "outputs": []
    },
    {
      "cell_type": "code",
      "source": [
        "#Scaling Data\n",
        "from sklearn.preprocessing import StandardScaler\n",
        "scale = StandardScaler()\n",
        "X_train_scaled = scale.fit_transform(X_train_new)\n",
        "X_test_scaled = scale.fit_transform(X_test_new)\n",
        "print(X_train_scaled.shape)\n",
        "print(X_test_scaled.shape)"
      ],
      "metadata": {
        "id": "frnqQ45Bi-cC"
      },
      "execution_count": null,
      "outputs": []
    },
    {
      "cell_type": "code",
      "source": [
        "#Training Different Redressors using Cross Validation\n",
        "from sklearn.ensemble import RandomForestRegressor\n",
        "forest_reg = RandomForestRegressor()\n",
        "from sklearn.model_selection import cross_val_score\n",
        "scores_RMSE = cross_val_score(forest_reg, X_train_scaled, y_train, scoring=\"neg_mean_squared_error\", cv=5)\n",
        "scores_r2 = cross_val_score(forest_reg, X_train_scaled, y_train, scoring=\"r2\", cv=5)\n",
        "tree_rmse = np.sqrt(-scores_RMSE)\n",
        "mse = -scores_RMSE\n",
        "\n",
        "#print('mse: ', mse)\n",
        "print('rmse: ', tree_rmse)\n",
        "print('r2: ', scores_r2)\n"
      ],
      "metadata": {
        "id": "fT-I36-jjerG"
      },
      "execution_count": null,
      "outputs": []
    },
    {
      "cell_type": "code",
      "source": [
        "from sklearn.ensemble import ExtraTreesRegressor\n",
        "extra_trees_model = ExtraTreesRegressor(n_estimators=150, random_state=42)\n",
        "scores_RMSE = cross_val_score(extra_trees_model, X_train_scaled, y_train, scoring=\"neg_mean_squared_error\", cv=5)\n",
        "scores_r2 = cross_val_score(extra_trees_model, X_train_scaled, y_train, scoring=\"r2\", cv=5)\n",
        "tree_rmse = np.sqrt(-scores_RMSE)\n",
        "mse = -scores_RMSE\n",
        "\n",
        "#print('mse: ', mse)\n",
        "print('rmse: ', tree_rmse)\n",
        "print('r2: ', scores_r2)"
      ],
      "metadata": {
        "id": "E88N1H8Wj7jV"
      },
      "execution_count": null,
      "outputs": []
    },
    {
      "cell_type": "code",
      "source": [
        "from sklearn.linear_model import BayesianRidge\n",
        "bayesian_ridge_model = BayesianRidge()\n",
        "scores_RMSE = cross_val_score(bayesian_ridge_model, X_train, y_train, scoring=\"neg_mean_squared_error\", cv=3)\n",
        "scores_r2 = cross_val_score(bayesian_ridge_model, X_train, y_train, scoring=\"r2\", cv=3)\n",
        "tree_rmse = np.sqrt(-scores_RMSE)\n",
        "print(tree_rmse)\n",
        "print(scores_r2)"
      ],
      "metadata": {
        "id": "37gMHuKekARq"
      },
      "execution_count": null,
      "outputs": []
    },
    {
      "cell_type": "code",
      "source": [
        "from sklearn.linear_model import LinearRegression\n",
        "lin_reg = LinearRegression()\n",
        "scores_RMSE = cross_val_score(lin_reg, X_train, y_train, scoring=\"neg_mean_squared_error\", cv=3)\n",
        "scores_r2 = cross_val_score(lin_reg, X_train, y_train, scoring=\"r2\", cv=3)\n",
        "tree_rmse = np.sqrt(-scores_RMSE)\n",
        "print(tree_rmse)\n",
        "print(scores_r2)"
      ],
      "metadata": {
        "id": "4J_iF8ACkEpx"
      },
      "execution_count": null,
      "outputs": []
    },
    {
      "cell_type": "code",
      "source": [
        "from sklearn.linear_model import Ridge\n",
        "ridge_model = Ridge(alpha=1.0)\n",
        "scores_RMSE = cross_val_score(ridge_model, X_train_scaled, y_train, scoring=\"neg_mean_squared_error\", cv=3)\n",
        "scores_r2 = cross_val_score(ridge_model, X_train_scaled, y_train, scoring=\"r2\", cv=3)\n",
        "tree_rmse = np.sqrt(-scores_RMSE)\n",
        "print(tree_rmse)\n",
        "print(scores_r2)"
      ],
      "metadata": {
        "id": "JGbB6oGOkI5J"
      },
      "execution_count": null,
      "outputs": []
    },
    {
      "cell_type": "code",
      "source": [
        "from sklearn.svm import SVR\n",
        "svr_model = SVR(kernel='rbf')\n",
        "scores_RMSE = cross_val_score(svr_model, X_train_scaled, y_train, scoring=\"neg_mean_squared_error\", cv=5)\n",
        "scores_r2 = cross_val_score(svr_model, X_train_scaled, y_train, scoring=\"r2\", cv=5)\n",
        "tree_rmse = np.sqrt(-scores_RMSE)\n",
        "print(tree_rmse)\n",
        "print(scores_r2)"
      ],
      "metadata": {
        "id": "pN_Ddiv7kN8R"
      },
      "execution_count": null,
      "outputs": []
    },
    {
      "cell_type": "code",
      "source": [
        "from sklearn.tree import DecisionTreeRegressor\n",
        "tree_reg = DecisionTreeRegressor()\n",
        "scores_RMSE = cross_val_score(tree_reg, X_train, y_train, scoring=\"neg_mean_squared_error\", cv=3)\n",
        "scores_r2 = cross_val_score(tree_reg, X_train, y_train, scoring=\"r2\", cv=3)\n",
        "tree_rmse = np.sqrt(-scores_RMSE)\n",
        "print(tree_rmse)\n",
        "print(scores_r2)"
      ],
      "metadata": {
        "id": "PUDmj7-Ek7d1"
      },
      "execution_count": null,
      "outputs": []
    },
    {
      "cell_type": "code",
      "source": [
        "#Test on the best model\n",
        "extra_trees_model.fit(X_train_scaled,y_train)\n",
        "y_pred = extra_trees_model.predict(X_test_scaled)\n",
        "final_mse = mean_squared_error(y_test, y_pred)\n",
        "final_rmse = np.sqrt(final_mse)\n",
        "print(final_rmse)\n",
        "r2 = r2_score(y_test, y_pred)\n",
        "print(r2)\n",
        "print(y_test.ravel()[50:60])\n",
        "print(y_pred[50:60])"
      ],
      "metadata": {
        "id": "7gM5TX18kf7P"
      },
      "execution_count": null,
      "outputs": []
    }
  ]
}